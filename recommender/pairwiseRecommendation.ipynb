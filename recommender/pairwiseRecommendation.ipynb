{
 "cells": [
  {
   "cell_type": "code",
   "execution_count": 2,
   "id": "7e3986a4",
   "metadata": {},
   "outputs": [],
   "source": [
    "import numpy as np\n",
    "import math\n",
    "from random import randrange"
   ]
  },
  {
   "cell_type": "code",
   "execution_count": 3,
   "id": "bf61810d",
   "metadata": {},
   "outputs": [
    {
     "data": {
      "text/plain": [
       "30"
      ]
     },
     "execution_count": 3,
     "metadata": {},
     "output_type": "execute_result"
    }
   ],
   "source": [
    "numPlayers = 30 #Number of players to emulate\n",
    "stdDict = {1:0.03, 2:0.12, 4:0.35, 6:0.35, 8: 0.12, 10:0.03} #Skill distribution using a normal standard deviation\n",
    "\n",
    "playerList = [i for i in range(1, numPlayers+1)] \n",
    "len(playerList)\n"
   ]
  },
  {
   "cell_type": "code",
   "execution_count": 4,
   "id": "9564c947",
   "metadata": {},
   "outputs": [],
   "source": [
    "def stdToDict(playerNum, stdDict): \n",
    "    #Returns a dictionary with player,skill from the \n",
    "    valuesList = []  \n",
    "    #From the percentage of each skill cap appearance rate and total number of players, add as many times the skill cap to the list\n",
    "    for key, val in stdDict.items(): \n",
    "        for i in range(0, round(val * playerNum)):\n",
    "            valuesList.append(key)   \n",
    "            \n",
    "    return {i:valuesList[i-1]  for i in range(0, playerNum)} \n",
    "\n",
    "def matchResult(skill1, skill2): \n",
    "    #From the kill of two players return if player 1 won or not\n",
    "    return skill1 > randrange(skill1+skill2)    \n",
    "\n",
    "def simulateMatches(playerMat,skillDict, numIter=1): \n",
    "    #Generates a list of matches, every player plays numIter matches vs random opponents\n",
    "    matchList = []\n",
    "    nPlayers= playerMat.shape[0]    \n",
    "    for ite in range(0, numIter):\n",
    "        for i in range(0, nPlayers):\n",
    "            p1 = i\n",
    "            p2 = randrange(nPlayers)\n",
    "            while (p1 == p2):\n",
    "                p2 = randrange(nPlayers)\n",
    "            match = [p1,p2,matchResult(skillDict[p1],skillDict[p2])]\n",
    "            matchList.append(match)        \n",
    "    return matchList   \n",
    "\n",
    "def addMatchToMat(playerMat,match):\n",
    "    #Takes a list of matches and adds the results to the player matrix\n",
    "    result = -1\n",
    "    if(match[2]):\n",
    "        result = 1\n",
    "    p1 = match[0]\n",
    "    p2 = match[1]\n",
    "    \n",
    "    playerMat[p1][p2] += result \n",
    "    playerMat[p2][p1] -= result   \n"
   ]
  },
  {
   "cell_type": "code",
   "execution_count": 5,
   "id": "178efe80",
   "metadata": {},
   "outputs": [
    {
     "data": {
      "text/plain": [
       "array([-3.5,  3.5, -1.5,  0.5, -1.5,  1.5,  5.5,  1.5,  1.5, -4.5,  3.5,\n",
       "        3.5,  0.5,  4.5,  3.5, -5.5,  3.5,  2.5,  3.5,  2.5, -0.5,  2.5,\n",
       "       -1.5,  3.5, -5.5,  2.5, -6.5, -0.5, -3.5, -0.5])"
      ]
     },
     "execution_count": 5,
     "metadata": {},
     "output_type": "execute_result"
    }
   ],
   "source": [
    "skillDict = stdToDict(numPlayers, stdDict)\n",
    "pxpMat = np.zeros((numPlayers, numPlayers))\n",
    "for i in range(0, pxpMat.shape[0]):\n",
    "    pxpMat[i][i] = 1/2\n",
    "    \n",
    "simMatchList = simulateMatches(pxpMat,skillDict,4) \n",
    "\n",
    "for match in simMatchList:\n",
    "    addMatchToMat(pxpMat, match)  \n",
    "    \n",
    "valuesList  = pxpMat.sum(axis=0)\n",
    "valuesDict = {i:valuesList[i]-1  for i in range(1, len(valuesList)) } \n",
    "valuesList"
   ]
  },
  {
   "cell_type": "code",
   "execution_count": 6,
   "id": "9c9be1f3",
   "metadata": {},
   "outputs": [
    {
     "data": {
      "text/plain": [
       "[[0, 16, False],\n",
       " [1, 18, False],\n",
       " [2, 9, True],\n",
       " [3, 19, False],\n",
       " [4, 8, False],\n",
       " [5, 12, False],\n",
       " [6, 11, True],\n",
       " [7, 8, False],\n",
       " [8, 18, True],\n",
       " [9, 22, False],\n",
       " [10, 16, True],\n",
       " [11, 3, True],\n",
       " [12, 20, True],\n",
       " [13, 23, False],\n",
       " [14, 6, False],\n",
       " [15, 27, False],\n",
       " [16, 27, False],\n",
       " [17, 29, False],\n",
       " [18, 11, True],\n",
       " [19, 3, True],\n",
       " [20, 13, True],\n",
       " [21, 20, False],\n",
       " [22, 10, False],\n",
       " [23, 3, True],\n",
       " [24, 14, True],\n",
       " [25, 21, False],\n",
       " [26, 6, True],\n",
       " [27, 28, True],\n",
       " [28, 22, False],\n",
       " [29, 4, True],\n",
       " [0, 24, True],\n",
       " [1, 19, False],\n",
       " [2, 22, True],\n",
       " [3, 23, False],\n",
       " [4, 22, True],\n",
       " [5, 1, True],\n",
       " [6, 14, True],\n",
       " [7, 23, True],\n",
       " [8, 5, True],\n",
       " [9, 15, True],\n",
       " [10, 23, False],\n",
       " [11, 4, False],\n",
       " [12, 25, True],\n",
       " [13, 28, False],\n",
       " [14, 12, False],\n",
       " [15, 0, False],\n",
       " [16, 27, False],\n",
       " [17, 19, False],\n",
       " [18, 23, False],\n",
       " [19, 28, True],\n",
       " [20, 26, False],\n",
       " [21, 23, True],\n",
       " [22, 19, True],\n",
       " [23, 11, False],\n",
       " [24, 6, False],\n",
       " [25, 18, True],\n",
       " [26, 2, True],\n",
       " [27, 20, True],\n",
       " [28, 25, True],\n",
       " [29, 12, False],\n",
       " [0, 25, True],\n",
       " [1, 28, False],\n",
       " [2, 26, False],\n",
       " [3, 2, False],\n",
       " [4, 14, False],\n",
       " [5, 17, False],\n",
       " [6, 9, False],\n",
       " [7, 27, False],\n",
       " [8, 9, True],\n",
       " [9, 12, True],\n",
       " [10, 16, True],\n",
       " [11, 8, True],\n",
       " [12, 4, True],\n",
       " [13, 16, True],\n",
       " [14, 16, False],\n",
       " [15, 11, False],\n",
       " [16, 6, True],\n",
       " [17, 8, True],\n",
       " [18, 9, True],\n",
       " [19, 6, True],\n",
       " [20, 26, True],\n",
       " [21, 25, True],\n",
       " [22, 17, False],\n",
       " [23, 25, True],\n",
       " [24, 16, True],\n",
       " [25, 7, False],\n",
       " [26, 1, True],\n",
       " [27, 6, True],\n",
       " [28, 26, True],\n",
       " [29, 13, True],\n",
       " [0, 13, True],\n",
       " [1, 20, True],\n",
       " [2, 17, False],\n",
       " [3, 27, True],\n",
       " [4, 17, False],\n",
       " [5, 9, False],\n",
       " [6, 27, True],\n",
       " [7, 8, False],\n",
       " [8, 0, True],\n",
       " [9, 10, True],\n",
       " [10, 28, True],\n",
       " [11, 15, False],\n",
       " [12, 10, False],\n",
       " [13, 11, True],\n",
       " [14, 27, False],\n",
       " [15, 7, False],\n",
       " [16, 23, False],\n",
       " [17, 6, False],\n",
       " [18, 4, True],\n",
       " [19, 1, False],\n",
       " [20, 8, True],\n",
       " [21, 18, False],\n",
       " [22, 21, True],\n",
       " [23, 7, False],\n",
       " [24, 29, True],\n",
       " [25, 8, False],\n",
       " [26, 6, True],\n",
       " [27, 14, True],\n",
       " [28, 22, False],\n",
       " [29, 28, False]]"
      ]
     },
     "execution_count": 6,
     "metadata": {},
     "output_type": "execute_result"
    }
   ],
   "source": [
    "simulateMatches(pxpMat,skillDict,4) "
   ]
  },
  {
   "cell_type": "code",
   "execution_count": null,
   "id": "a2bddfe0",
   "metadata": {},
   "outputs": [],
   "source": []
  },
  {
   "cell_type": "code",
   "execution_count": null,
   "id": "df469b92",
   "metadata": {},
   "outputs": [],
   "source": []
  }
 ],
 "metadata": {
  "kernelspec": {
   "display_name": "Python 3",
   "language": "python",
   "name": "python3"
  },
  "language_info": {
   "codemirror_mode": {
    "name": "ipython",
    "version": 3
   },
   "file_extension": ".py",
   "mimetype": "text/x-python",
   "name": "python",
   "nbconvert_exporter": "python",
   "pygments_lexer": "ipython3",
   "version": "3.8.8"
  }
 },
 "nbformat": 4,
 "nbformat_minor": 5
}
